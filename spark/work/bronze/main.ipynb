{
 "cells": [
  {
   "cell_type": "code",
   "execution_count": 4,
   "id": "9ff1e50b-6367-4303-bb02-4fd4a9c55407",
   "metadata": {},
   "outputs": [],
   "source": [
    "from pyspark.sql import SparkSession\n",
    "spark=(SparkSession.builder\n",
    "        .appName(\"MinioTest\")\n",
    "        .enableHiveSupport()\n",
    "        .getOrCreate())"
   ]
  },
  {
   "cell_type": "code",
   "execution_count": 5,
   "id": "04a08d6f-409c-4159-b71c-1fd230d970e6",
   "metadata": {},
   "outputs": [],
   "source": [
    "df=spark.read.json('s3a://bronze/sample.json')"
   ]
  },
  {
   "cell_type": "code",
   "execution_count": 6,
   "id": "51bad95f-ebf5-448a-b981-fa717355eba1",
   "metadata": {},
   "outputs": [
    {
     "name": "stdout",
     "output_type": "stream",
     "text": [
      "+---+---+\n",
      "|  a|  b|\n",
      "+---+---+\n",
      "|  a|  b|\n",
      "|  a|  b|\n",
      "|  a|  b|\n",
      "+---+---+\n",
      "\n"
     ]
    }
   ],
   "source": [
    "df.show()"
   ]
  }
 ],
 "metadata": {
  "kernelspec": {
   "display_name": "Python 3 (ipykernel)",
   "language": "python",
   "name": "python3"
  },
  "language_info": {
   "codemirror_mode": {
    "name": "ipython",
    "version": 3
   },
   "file_extension": ".py",
   "mimetype": "text/x-python",
   "name": "python",
   "nbconvert_exporter": "python",
   "pygments_lexer": "ipython3",
   "version": "3.10.8"
  }
 },
 "nbformat": 4,
 "nbformat_minor": 5
}
