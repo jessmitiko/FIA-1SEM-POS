{
 "cells": [
  {
   "cell_type": "code",
   "execution_count": 12,
   "id": "bc7cae4f-e492-48c4-8a7f-f5bd045c47fd",
   "metadata": {},
   "outputs": [],
   "source": [
    "import requests"
   ]
  },
  {
   "cell_type": "code",
   "execution_count": 34,
   "id": "c3da4ebe-1261-4043-b261-368711aacc6f",
   "metadata": {},
   "outputs": [],
   "source": [
    "token='bde4a3deabdd81f9206e0a69974a1a8eb18425137adbadf8e9cccf9d45ba53bd' #\n",
    "base_url='https://api.olhovivo.sptrans.com.br/v2.1'\n",
    "response=requests.post(f'{base_url}/Login/Autenticar?token={token}')"
   ]
  },
  {
   "cell_type": "code",
   "execution_count": 36,
   "id": "a8b90947-eb19-40cd-b767-e53318fdc39e",
   "metadata": {},
   "outputs": [],
   "source": [
    "headers={\n",
    "    \"Cookie\": response.headers['Set-Cookie'] \n",
    "}"
   ]
  },
  {
   "cell_type": "code",
   "execution_count": 41,
   "id": "89e15af2-80d6-4d83-9bc3-346eaebde9f0",
   "metadata": {},
   "outputs": [],
   "source": [
    "response=requests.get(f'{base_url}/Linha/Buscar?termosBusca=TERM', headers=headers)"
   ]
  },
  {
   "cell_type": "code",
   "execution_count": 44,
   "id": "c625c3ba-d917-4e9d-8557-005da248e68c",
   "metadata": {},
   "outputs": [
    {
     "name": "stdout",
     "output_type": "stream",
     "text": [
      "Collecting boto3\n",
      "  Using cached boto3-1.35.54-py3-none-any.whl (139 kB)\n",
      "Collecting jmespath<2.0.0,>=0.7.1\n",
      "  Using cached jmespath-1.0.1-py3-none-any.whl (20 kB)\n",
      "Collecting botocore<1.36.0,>=1.35.54\n",
      "  Using cached botocore-1.35.54-py3-none-any.whl (12.7 MB)\n",
      "Collecting s3transfer<0.11.0,>=0.10.0\n",
      "  Using cached s3transfer-0.10.3-py3-none-any.whl (82 kB)\n",
      "Requirement already satisfied: urllib3!=2.2.0,<3,>=1.25.4 in /opt/conda/lib/python3.10/site-packages (from botocore<1.36.0,>=1.35.54->boto3) (1.26.13)\n",
      "Requirement already satisfied: python-dateutil<3.0.0,>=2.1 in /opt/conda/lib/python3.10/site-packages (from botocore<1.36.0,>=1.35.54->boto3) (2.8.2)\n",
      "Requirement already satisfied: six>=1.5 in /opt/conda/lib/python3.10/site-packages (from python-dateutil<3.0.0,>=2.1->botocore<1.36.0,>=1.35.54->boto3) (1.16.0)\n",
      "Installing collected packages: jmespath, botocore, s3transfer, boto3\n",
      "Successfully installed boto3-1.35.54 botocore-1.35.54 jmespath-1.0.1 s3transfer-0.10.3\n"
     ]
    }
   ],
   "source": [
    "!pip install boto3"
   ]
  },
  {
   "cell_type": "code",
   "execution_count": 46,
   "id": "2bf0d8a0-c5e0-4380-bb36-680e93bc71a4",
   "metadata": {},
   "outputs": [],
   "source": [
    "import os\n",
    "\n",
    "s3_client=boto3.client(\n",
    "    's3',\n",
    "    endpoint_url=os.getenv(\"S3_ENDPOINT\"),\n",
    "    aws_access_key_id=os.getenv(\"AWS_ACCESS_KEY_ID\"),\n",
    "    aws_secret_access_key=os.getenv(\"AWS_SECRET_ACCESS_KEY\"),\n",
    "    config=boto3.session.Config(signature_version='s3v4')\n",
    ")"
   ]
  },
  {
   "cell_type": "code",
   "execution_count": 62,
   "id": "d1e4c34c-3f85-4aa7-b911-b2883da467ce",
   "metadata": {},
   "outputs": [],
   "source": [
    "import json\n",
    "import boto3\n",
    "from datetime import datetime\n",
    "\n",
    "def save_to_s3(path_s3, data):\n",
    "    bucket_name, key = path_s3.replace(\"s3a://\", \"\").split('/', 1)\n",
    "    current_timestamp=datetime.now().strftime('%Y-%m-%d_%H-%M-%S')\n",
    "    print(f'saving {len(data)} items to {bucket_name} bucket in {key}dt_ingestion={current_timestamp}/data.json')\n",
    "    s3_client.put_object(Body=(bytes(json.dumps(data, default=str).encode('UTF-8'))), Bucket=bucket_name, Key=f'{key}dt_ingestion={current_timestamp}/data.json')\n",
    "\n",
    "    print('done!')"
   ]
  },
  {
   "cell_type": "code",
   "execution_count": 63,
   "id": "c4369991-c288-4d16-92ca-d0f9bf6eee72",
   "metadata": {},
   "outputs": [
    {
     "name": "stdout",
     "output_type": "stream",
     "text": [
      "saving 1252 items to bronze bucket in linhas/dt_ingestion=2024-11-03_15-17-25/data.json\n",
      "done!\n"
     ]
    }
   ],
   "source": [
    "path_s3='s3a://bronze/linhas/'\n",
    "save_to_s3(path_s3, response.json())"
   ]
  }
 ],
 "metadata": {
  "kernelspec": {
   "display_name": "Python 3 (ipykernel)",
   "language": "python",
   "name": "python3"
  },
  "language_info": {
   "codemirror_mode": {
    "name": "ipython",
    "version": 3
   },
   "file_extension": ".py",
   "mimetype": "text/x-python",
   "name": "python",
   "nbconvert_exporter": "python",
   "pygments_lexer": "ipython3",
   "version": "3.10.8"
  }
 },
 "nbformat": 4,
 "nbformat_minor": 5
}
