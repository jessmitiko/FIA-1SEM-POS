{
 "cells": [
  {
   "cell_type": "code",
   "execution_count": 11,
   "id": "79ae6062-d672-4d61-8e48-956e314177a7",
   "metadata": {},
   "outputs": [],
   "source": [
    "import os\n",
    "from datetime import datetime\n",
    "from pyspark.sql import SparkSession\n",
    "from pyspark.sql.functions import lit\n",
    "\n",
    "spark = SparkSession.builder \\\n",
    "        .appName(\"ingestion-linhas\") \\\n",
    "        .master(\"local[*]\") \\\n",
    "        .config(\"spark.hadoop.fs.s3a.endpoint\", os.getenv(\"S3_ENDPOINT\")) \\\n",
    "        .config(\"spark.hadoop.fs.s3a.access.key\", os.getenv(\"AWS_ACCESS_KEY_ID\")) \\\n",
    "        .config(\"spark.hadoop.fs.s3a.secret.key\", os.getenv(\"AWS_SECRET_ACCESS_KEY\")) \\\n",
    "        .config(\"spark.hadoop.fs.s3a.path.style.access\", \"true\") \\\n",
    "        .config(\"spark.hadoop.fs.s3a.impl\", \"org.apache.hadoop.fs.s3a.S3AFileSystem\") \\\n",
    "        .config(\"spark.hadoop.fs.s3a.aws.credentials.provider\", \"org.apache.hadoop.fs.s3a.SimpleAWSCredentialsProvider\") \\\n",
    "        .config(\"spark.sql.extensions\", \"io.delta.sql.DeltaSparkSessionExtension\") \\\n",
    "        .config(\"spark.sql.catalog.spark_catalog\", \"org.apache.spark.sql.delta.catalog.DeltaCatalog\") \\\n",
    "        .getOrCreate()\n",
    "    \n",
    "today=datetime.now().strftime('%Y-%m-%d')\n",
    "df=spark.read.json(f's3a://bronze/linhas/dt_ingestion={today}*')"
   ]
  },
  {
   "cell_type": "code",
   "execution_count": 12,
   "id": "49962240-ce42-4bcd-a98a-ae8e4a895e4b",
   "metadata": {},
   "outputs": [
    {
     "name": "stdout",
     "output_type": "stream",
     "text": [
      "+-----+-----+----+---+---+-------------------+-----------------+\n",
      "|   cl|   lc|  lt| sl| tl|                 tp|               ts|\n",
      "+-----+-----+----+---+---+-------------------+-----------------+\n",
      "| 2495|false|1019|  1| 10|     TERM. PIRITUBA|     SOL NASCENTE|\n",
      "|35263|false|1019|  2| 10|     TERM. PIRITUBA|     SOL NASCENTE|\n",
      "|  833|false|1021|  1| 10|     TERM. PIRITUBA|COHAB BRASILÂNDIA|\n",
      "|33601|false|1021|  2| 10|     TERM. PIRITUBA|COHAB BRASILÂNDIA|\n",
      "|  621|false|107T|  1| 10|    TERM. PINHEIROS|   METRÔ TUCURUVI|\n",
      "|33389|false|107T|  2| 10|    TERM. PINHEIROS|   METRÔ TUCURUVI|\n",
      "|  519|false|118C|  1| 10|TERM. AMARAL GURGEL|    JD. PERY ALTO|\n",
      "|33287|false|118C|  2| 10|TERM. AMARAL GURGEL|    JD. PERY ALTO|\n",
      "|  661|false|119C|  1| 10|TERM. PRINC. ISABEL|   PQ. EDU CHAVES|\n",
      "|33429|false|119C|  2| 10|TERM. PRINC. ISABEL|   PQ. EDU CHAVES|\n",
      "+-----+-----+----+---+---+-------------------+-----------------+\n",
      "only showing top 10 rows\n",
      "\n"
     ]
    }
   ],
   "source": [
    "df=df.withColumn('date', lit(today))\n",
    "df.show(10)"
   ]
  },
  {
   "cell_type": "code",
   "execution_count": 14,
   "id": "68b845ff-7ed6-4201-b875-d7de995d83df",
   "metadata": {},
   "outputs": [],
   "source": [
    "df.write.format('delta') \\\n",
    "        .mode('overwrite') \\\n",
    "        .option('overwriteSchema', 'true') \\\n",
    "        .partitionBy('date') \\\n",
    "        .save('s3a://silver/linhas/')"
   ]
  }
 ],
 "metadata": {
  "kernelspec": {
   "display_name": "Python 3 (ipykernel)",
   "language": "python",
   "name": "python3"
  },
  "language_info": {
   "codemirror_mode": {
    "name": "ipython",
    "version": 3
   },
   "file_extension": ".py",
   "mimetype": "text/x-python",
   "name": "python",
   "nbconvert_exporter": "python",
   "pygments_lexer": "ipython3",
   "version": "3.10.8"
  }
 },
 "nbformat": 4,
 "nbformat_minor": 5
}
