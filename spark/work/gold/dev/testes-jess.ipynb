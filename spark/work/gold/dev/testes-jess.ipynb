{
 "cells": [
  {
   "cell_type": "code",
   "execution_count": 2,
   "id": "22cbad92-9db8-45eb-b196-bfe0bdea3bce",
   "metadata": {},
   "outputs": [],
   "source": [
    "import os\n",
    "from datetime import datetime\n",
    "from pyspark.sql import SparkSession\n",
    "from pyspark.sql.functions import lit, col\n",
    "\n",
    "spark = SparkSession.builder \\\n",
    "        .appName(\"ingestion-linhas\") \\\n",
    "        .master(\"local[*]\") \\\n",
    "        .config(\"spark.hadoop.fs.s3a.endpoint\", os.getenv(\"S3_ENDPOINT\")) \\\n",
    "        .config(\"spark.hadoop.fs.s3a.access.key\", os.getenv(\"AWS_ACCESS_KEY_ID\")) \\\n",
    "        .config(\"spark.hadoop.fs.s3a.secret.key\", os.getenv(\"AWS_SECRET_ACCESS_KEY\")) \\\n",
    "        .config(\"spark.hadoop.fs.s3a.path.style.access\", \"true\") \\\n",
    "        .config(\"spark.hadoop.fs.s3a.impl\", \"org.apache.hadoop.fs.s3a.S3AFileSystem\") \\\n",
    "        .config(\"spark.hadoop.fs.s3a.aws.credentials.provider\", \"org.apache.hadoop.fs.s3a.SimpleAWSCredentialsProvider\") \\\n",
    "        .getOrCreate()\n",
    "    \n",
    "today=datetime.now().strftime('%Y-%m-%d')"
   ]
  },
  {
   "cell_type": "code",
   "execution_count": 9,
   "id": "f7e2c94d-7aa1-4b83-a762-fb7ce190d253",
   "metadata": {},
   "outputs": [],
   "source": [
    "posicao=spark.read.option('header', 'true').csv(f's3a://silver/posicao_by_linha/csv/')\n",
    "paradas=spark.read.option('header', 'true').csv(f's3a://silver/paradas_by_linhas/csv/')\n",
    "linhas=spark.read.option('header', 'true').csv(f's3a://silver/linhas/csv/')"
   ]
  },
  {
   "cell_type": "code",
   "execution_count": 24,
   "id": "21fd91db-353a-4104-93bc-c17f9cf67406",
   "metadata": {},
   "outputs": [
    {
     "data": {
      "text/plain": [
       "DataFrame[cl: string, cp: string, np: string, ed: string, latitude_parada: string, longitude_parada: string, date: string]"
      ]
     },
     "execution_count": 24,
     "metadata": {},
     "output_type": "execute_result"
    }
   ],
   "source": [
    "(paradas\n",
    "    .withColumnRenamed('py', 'latitude_parada')\n",
    "    .withColumnRenamed('px', 'longitude_parada'))"
   ]
  },
  {
   "cell_type": "code",
   "execution_count": 26,
   "id": "a9b03f2d-dcc0-406f-9f0f-b5be36e54fed",
   "metadata": {},
   "outputs": [],
   "source": [
    "final=spark.read.option('header', 'true').csv(f's3a://gold/linhas/csv/')"
   ]
  },
  {
   "cell_type": "code",
   "execution_count": 27,
   "id": "608c7097-ca98-4bde-8a2d-e6a20acb20fc",
   "metadata": {},
   "outputs": [
    {
     "name": "stdout",
     "output_type": "stream",
     "text": [
      "+------------+----------+-----------------+---------------+--------------+--------------------+-------------------+------------------+-------------+-----------+---------------+---------------+----------------+--------+--------------+-------+-------------+-----------------------+------------------------+\n",
      "|codigo_linha|      date|hora_extracao_api|prefixo_veiculo|acessibilidade|  loc_capturada_hora|           latitude|         longitude|codigo_parada|nome_parada|endereco_parada|latitude_parada|longitude_parada|circular|prefixo_numero|sentido|sufixo_numero|letreiro_term_principal|letreiro_term_secundario|\n",
      "+------------+----------+-----------------+---------------+--------------+--------------------+-------------------+------------------+-------------+-----------+---------------+---------------+----------------+--------+--------------+-------+-------------+-----------------------+------------------------+\n",
      "|        2495|2024-11-04|            08:48|          10582|          true|2024-11-04T11:47:39Z|         -23.437415|        -46.779865|         null|       null|           null|           null|            null|   false|          1019|      1|           10|         TERM. PIRITUBA|            SOL NASCENTE|\n",
      "|        2495|2024-11-04|            08:48|          10582|          true|2024-11-04T11:47:39Z|         -23.437415|        -46.779865|         null|       null|           null|           null|            null|   false|          1019|      1|           10|         TERM. PIRITUBA|            SOL NASCENTE|\n",
      "|        2495|2024-11-04|            08:48|          10581|          true|2024-11-04T11:48:06Z|        -23.4407735|       -46.7593955|         null|       null|           null|           null|            null|   false|          1019|      1|           10|         TERM. PIRITUBA|            SOL NASCENTE|\n",
      "|        2495|2024-11-04|            08:48|          10581|          true|2024-11-04T11:48:06Z|        -23.4407735|       -46.7593955|         null|       null|           null|           null|            null|   false|          1019|      1|           10|         TERM. PIRITUBA|            SOL NASCENTE|\n",
      "|       35263|2024-11-04|            08:48|          10584|          true|2024-11-04T11:47:50Z|-23.486878500000003|       -46.7265645|         null|       null|           null|           null|            null|   false|          1019|      2|           10|         TERM. PIRITUBA|            SOL NASCENTE|\n",
      "|       35263|2024-11-04|            08:48|          10584|          true|2024-11-04T11:47:50Z|-23.486878500000003|       -46.7265645|         null|       null|           null|           null|            null|   false|          1019|      2|           10|         TERM. PIRITUBA|            SOL NASCENTE|\n",
      "|       35263|2024-11-04|            08:48|          10583|          true|2024-11-04T11:48:12Z|-23.436503000000002|       -46.7631435|         null|       null|           null|           null|            null|   false|          1019|      2|           10|         TERM. PIRITUBA|            SOL NASCENTE|\n",
      "|       35263|2024-11-04|            08:48|          10583|          true|2024-11-04T11:48:12Z|-23.436503000000002|       -46.7631435|         null|       null|           null|           null|            null|   false|          1019|      2|           10|         TERM. PIRITUBA|            SOL NASCENTE|\n",
      "|         833|2024-11-04|            08:48|          16531|          true|2024-11-04T11:48:08Z|-23.445529999999998|-46.71263999999999|         null|       null|           null|           null|            null|   false|          1021|      1|           10|         TERM. PIRITUBA|       COHAB BRASILÂNDIA|\n",
      "|         833|2024-11-04|            08:48|          16531|          true|2024-11-04T11:48:08Z|-23.445529999999998|-46.71263999999999|         null|       null|           null|           null|            null|   false|          1021|      1|           10|         TERM. PIRITUBA|       COHAB BRASILÂNDIA|\n",
      "|         833|2024-11-04|            08:48|          16523|          true|2024-11-04T11:47:39Z|         -23.486697|        -46.726888|         null|       null|           null|           null|            null|   false|          1021|      1|           10|         TERM. PIRITUBA|       COHAB BRASILÂNDIA|\n",
      "|         833|2024-11-04|            08:48|          16523|          true|2024-11-04T11:47:39Z|         -23.486697|        -46.726888|         null|       null|           null|           null|            null|   false|          1021|      1|           10|         TERM. PIRITUBA|       COHAB BRASILÂNDIA|\n",
      "|       33601|2024-11-04|            08:48|          16444|          true|2024-11-04T11:48:09Z|        -23.4695535|       -46.7243475|         null|       null|           null|           null|            null|   false|          1021|      2|           10|         TERM. PIRITUBA|       COHAB BRASILÂNDIA|\n",
      "|       33601|2024-11-04|            08:48|          16444|          true|2024-11-04T11:48:09Z|        -23.4695535|       -46.7243475|         null|       null|           null|           null|            null|   false|          1021|      2|           10|         TERM. PIRITUBA|       COHAB BRASILÂNDIA|\n",
      "|       33601|2024-11-04|            08:48|          16401|          true|2024-11-04T11:47:30Z|-23.444692500000002|      -46.71084275|         null|       null|           null|           null|            null|   false|          1021|      2|           10|         TERM. PIRITUBA|       COHAB BRASILÂNDIA|\n",
      "|       33601|2024-11-04|            08:48|          16401|          true|2024-11-04T11:47:30Z|-23.444692500000002|      -46.71084275|         null|       null|           null|           null|            null|   false|          1021|      2|           10|         TERM. PIRITUBA|       COHAB BRASILÂNDIA|\n",
      "|       33601|2024-11-04|            08:48|          16386|          true|2024-11-04T11:47:41Z|         -23.458741|        -46.715089|         null|       null|           null|           null|            null|   false|          1021|      2|           10|         TERM. PIRITUBA|       COHAB BRASILÂNDIA|\n",
      "|       33601|2024-11-04|            08:48|          16386|          true|2024-11-04T11:47:41Z|         -23.458741|        -46.715089|         null|       null|           null|           null|            null|   false|          1021|      2|           10|         TERM. PIRITUBA|       COHAB BRASILÂNDIA|\n",
      "|         621|2024-11-04|            08:48|          21250|          true|2024-11-04T11:47:53Z|      -23.546264625|     -46.643076625|         null|       null|           null|           null|            null|   false|          107T|      1|           10|        TERM. PINHEIROS|          METRÔ TUCURUVI|\n",
      "|         621|2024-11-04|            08:48|          21250|          true|2024-11-04T11:47:53Z|      -23.546264625|     -46.643076625|         null|       null|           null|           null|            null|   false|          107T|      1|           10|        TERM. PINHEIROS|          METRÔ TUCURUVI|\n",
      "+------------+----------+-----------------+---------------+--------------+--------------------+-------------------+------------------+-------------+-----------+---------------+---------------+----------------+--------+--------------+-------+-------------+-----------------------+------------------------+\n",
      "only showing top 20 rows\n",
      "\n"
     ]
    }
   ],
   "source": [
    "final.show()"
   ]
  },
  {
   "cell_type": "code",
   "execution_count": 21,
   "id": "cf370ade-5b09-476c-9e07-4ed983f3fff2",
   "metadata": {},
   "outputs": [
    {
     "name": "stdout",
     "output_type": "stream",
     "text": [
      "root\n",
      " |-- cl: string (nullable = true)\n",
      " |-- cp: string (nullable = true)\n",
      " |-- np: string (nullable = true)\n",
      " |-- ed: string (nullable = true)\n",
      " |-- py: string (nullable = true)\n",
      " |-- px: string (nullable = true)\n",
      " |-- date: string (nullable = true)\n",
      "\n"
     ]
    }
   ],
   "source": [
    "paradas.printSchema()"
   ]
  },
  {
   "cell_type": "code",
   "execution_count": 22,
   "id": "d0c99776-a5f0-4870-85bc-4524e154083b",
   "metadata": {},
   "outputs": [
    {
     "name": "stdout",
     "output_type": "stream",
     "text": [
      "root\n",
      " |-- cl: string (nullable = true)\n",
      " |-- hr: string (nullable = true)\n",
      " |-- p: string (nullable = true)\n",
      " |-- a: string (nullable = true)\n",
      " |-- ta: string (nullable = true)\n",
      " |-- py: string (nullable = true)\n",
      " |-- px: string (nullable = true)\n",
      " |-- date: string (nullable = true)\n",
      "\n"
     ]
    }
   ],
   "source": [
    "posicao.printSchema()"
   ]
  },
  {
   "cell_type": "code",
   "execution_count": 23,
   "id": "a1e70664-3baa-4949-8e2e-442a2540a482",
   "metadata": {},
   "outputs": [
    {
     "name": "stdout",
     "output_type": "stream",
     "text": [
      "root\n",
      " |-- cl: string (nullable = true)\n",
      " |-- lc: string (nullable = true)\n",
      " |-- lt: string (nullable = true)\n",
      " |-- sl: string (nullable = true)\n",
      " |-- tl: string (nullable = true)\n",
      " |-- tp: string (nullable = true)\n",
      " |-- ts: string (nullable = true)\n",
      " |-- date: string (nullable = true)\n",
      "\n"
     ]
    }
   ],
   "source": [
    "linhas.printSchema()"
   ]
  },
  {
   "cell_type": "code",
   "execution_count": 12,
   "id": "cb1a09ee-8a52-4c12-a7e3-84a48b0a9402",
   "metadata": {},
   "outputs": [],
   "source": [
    "df=(posicao\n",
    "    .join(paradas, on=['cl', 'date'], how='left')\n",
    "    .join(linhas, on=['cl', 'date'], how='left'))"
   ]
  },
  {
   "cell_type": "code",
   "execution_count": 20,
   "id": "02730ccd-512d-4ef5-ab62-7ea45c213580",
   "metadata": {},
   "outputs": [
    {
     "data": {
      "text/plain": [
       "DataFrame[cl: string, date: string, hr: string, p: string, a: string, ta: string, py: string, px: string, cp: string, np: string, ed: string, py: string, px: string, lc: string, lt: string, sl: string, tl: string, tp: string, ts: string]"
      ]
     },
     "execution_count": 20,
     "metadata": {},
     "output_type": "execute_result"
    }
   ],
   "source": [
    "df.dropDuplicates(['cl', 'date'])"
   ]
  },
  {
   "cell_type": "code",
   "execution_count": 18,
   "id": "96cf5b91-9f98-4a6e-9f56-589d8df02263",
   "metadata": {},
   "outputs": [],
   "source": [
    "df_treated=(df\n",
    "             .withColumnRenamed('cl','codigo_linha')\n",
    "             .withColumnRenamed('hr', 'hora_extracao_api')\n",
    "             .withColumnRenamed('p', 'prefixo_veiculo')\n",
    "             .withColumnRenamed('a', 'acessibilidade')\n",
    "             .withColumnRenamed('ta', 'loc_capturada_hora')\n",
    "             .withColumnRenamed('py', 'latitude')\n",
    "             .withColumnRenamed('px', 'longitude')\n",
    "             .withColumnRenamed('lc', 'circular')\n",
    "             .withColumnRenamed('lt', 'prefixo_numero')\n",
    "             .withColumnRenamed('sl', 'sentido')\n",
    "             .withColumnRenamed('tp', 'letreiro_term_principal')\n",
    "             .withColumnRenamed('ts', 'letreiro_term_secundario')\n",
    "             .withColumnRenamed('cp', 'codigo_parada')\n",
    "             .withColumnRenamed('np', 'nome_parada')\n",
    "             .withColumnRenamed('ed', 'endereco_parada')\n",
    "             .withColumnRenamed('tl', 'sufixo_numero')\n",
    "           )"
   ]
  },
  {
   "cell_type": "code",
   "execution_count": 19,
   "id": "95d72114-0278-4f3e-8b43-aa8165e353a9",
   "metadata": {},
   "outputs": [
    {
     "name": "stdout",
     "output_type": "stream",
     "text": [
      "root\n",
      " |-- codigo_linha: string (nullable = true)\n",
      " |-- date: string (nullable = true)\n",
      " |-- hora_extracao_api: string (nullable = true)\n",
      " |-- prefixo_veiculo: string (nullable = true)\n",
      " |-- acessibilidade: string (nullable = true)\n",
      " |-- loc_capturada_hora: string (nullable = true)\n",
      " |-- latitude: string (nullable = true)\n",
      " |-- longitude: string (nullable = true)\n",
      " |-- codigo_parada: string (nullable = true)\n",
      " |-- nome_parada: string (nullable = true)\n",
      " |-- endereco_parada: string (nullable = true)\n",
      " |-- latitude: string (nullable = true)\n",
      " |-- longitude: string (nullable = true)\n",
      " |-- circular: string (nullable = true)\n",
      " |-- prefixo_numero: string (nullable = true)\n",
      " |-- sentido: string (nullable = true)\n",
      " |-- sufixo_numero: string (nullable = true)\n",
      " |-- letreiro_term_principal: string (nullable = true)\n",
      " |-- letreiro_term_secundario: string (nullable = true)\n",
      "\n"
     ]
    }
   ],
   "source": [
    "df_treated.printSchema()"
   ]
  }
 ],
 "metadata": {
  "kernelspec": {
   "display_name": "Python 3 (ipykernel)",
   "language": "python",
   "name": "python3"
  },
  "language_info": {
   "codemirror_mode": {
    "name": "ipython",
    "version": 3
   },
   "file_extension": ".py",
   "mimetype": "text/x-python",
   "name": "python",
   "nbconvert_exporter": "python",
   "pygments_lexer": "ipython3",
   "version": "3.10.8"
  }
 },
 "nbformat": 4,
 "nbformat_minor": 5
}
